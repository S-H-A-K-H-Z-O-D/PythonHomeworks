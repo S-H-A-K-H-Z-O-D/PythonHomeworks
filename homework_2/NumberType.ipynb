{
 "cells": [
  {
   "cell_type": "markdown",
   "metadata": {},
   "source": [
    "Task 1"
   ]
  },
  {
   "cell_type": "code",
   "execution_count": 1,
   "metadata": {},
   "outputs": [
    {
     "name": "stdout",
     "output_type": "stream",
     "text": [
      "2.47\n"
     ]
    }
   ],
   "source": [
    "def twoDes(a: float):\n",
    "    return f\"{a:.2f}\"\n",
    "\n",
    "print(twoDes(2.4651))"
   ]
  },
  {
   "cell_type": "markdown",
   "metadata": {},
   "source": [
    "Task 2"
   ]
  },
  {
   "cell_type": "code",
   "execution_count": 17,
   "metadata": {},
   "outputs": [
    {
     "name": "stdout",
     "output_type": "stream",
     "text": [
      "9 4\n"
     ]
    }
   ],
   "source": [
    "def largSmall(a: int, b: int, c: int):\n",
    "    maax = max(a, b, c)\n",
    "    miin = min(a, b, c)\n",
    "    print(maax, miin)\n",
    "\n",
    "largSmall(4, 5, 9)"
   ]
  },
  {
   "cell_type": "markdown",
   "metadata": {},
   "source": [
    "Task 3"
   ]
  },
  {
   "cell_type": "code",
   "execution_count": 21,
   "metadata": {},
   "outputs": [
    {
     "name": "stdout",
     "output_type": "stream",
     "text": [
      "15000 1500000\n"
     ]
    }
   ],
   "source": [
    "kilometer = 15\n",
    "meter = 15 * 1000\n",
    "santimeter = meter * 100\n",
    "\n",
    "print(meter, santimeter)"
   ]
  },
  {
   "cell_type": "markdown",
   "metadata": {},
   "source": [
    "Task 4"
   ]
  },
  {
   "cell_type": "code",
   "execution_count": 22,
   "metadata": {},
   "outputs": [
    {
     "name": "stdout",
     "output_type": "stream",
     "text": [
      "2 1\n"
     ]
    }
   ],
   "source": [
    "def largSmall(a: int, b: int):\n",
    "    deveision = int(a/b)\n",
    "    reminder = a % b\n",
    "    print(deveision, reminder)\n",
    "\n",
    "largSmall(5, 2)"
   ]
  },
  {
   "cell_type": "markdown",
   "metadata": {},
   "source": [
    "Task 5"
   ]
  },
  {
   "cell_type": "code",
   "execution_count": 23,
   "metadata": {},
   "outputs": [
    {
     "name": "stdout",
     "output_type": "stream",
     "text": [
      "15.0 degrees C = 59.00 degrees F\n"
     ]
    }
   ],
   "source": [
    "def convert_cel_to_far(C: float):\n",
    "\n",
    "    F = C * 9/5 + 32\n",
    "\n",
    "    return F\n",
    "\n",
    "\n",
    "b = float(input(\"Enter a temperature in degrees C: \"))\n",
    "print(f\"{b} degrees C = {convert_cel_to_far(b):.2f} degrees F\")"
   ]
  },
  {
   "cell_type": "markdown",
   "metadata": {},
   "source": [
    "Task 6"
   ]
  },
  {
   "cell_type": "code",
   "execution_count": 24,
   "metadata": {},
   "outputs": [
    {
     "data": {
      "text/plain": [
       "'5'"
      ]
     },
     "execution_count": 24,
     "metadata": {},
     "output_type": "execute_result"
    }
   ],
   "source": [
    "def lastDig(a: int):\n",
    "    dig = str(a)\n",
    "    return dig[-1]\n",
    "\n",
    "lastDig(65165)"
   ]
  },
  {
   "cell_type": "markdown",
   "metadata": {},
   "source": [
    "Task 7"
   ]
  },
  {
   "cell_type": "code",
   "execution_count": 26,
   "metadata": {},
   "outputs": [
    {
     "data": {
      "text/plain": [
       "'Odd'"
      ]
     },
     "execution_count": 26,
     "metadata": {},
     "output_type": "execute_result"
    }
   ],
   "source": [
    "def isEven(a: int):\n",
    "    if a % 2 == 0:\n",
    "        return \"Even\"\n",
    "    else:\n",
    "        return \"Odd\"\n",
    "\n",
    "isEven(65165)"
   ]
  },
  {
   "cell_type": "markdown",
   "metadata": {},
   "source": [
    "Task 8"
   ]
  },
  {
   "cell_type": "code",
   "execution_count": 29,
   "metadata": {},
   "outputs": [
    {
     "data": {
      "text/plain": [
       "'56'"
      ]
     },
     "execution_count": 29,
     "metadata": {},
     "output_type": "execute_result"
    }
   ],
   "source": [
    "def swapEl(a: int):\n",
    "    a = str(a)\n",
    "    return f\"{a[1]}{a[0]}\"\n",
    "\n",
    "swapEl(65)"
   ]
  }
 ],
 "metadata": {
  "kernelspec": {
   "display_name": "Python 3",
   "language": "python",
   "name": "python3"
  },
  "language_info": {
   "codemirror_mode": {
    "name": "ipython",
    "version": 3
   },
   "file_extension": ".py",
   "mimetype": "text/x-python",
   "name": "python",
   "nbconvert_exporter": "python",
   "pygments_lexer": "ipython3",
   "version": "3.12.6"
  }
 },
 "nbformat": 4,
 "nbformat_minor": 2
}
