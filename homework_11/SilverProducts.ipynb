{
 "cells": [
  {
   "cell_type": "code",
   "execution_count": 46,
   "metadata": {},
   "outputs": [],
   "source": [
    "from pyspark.sql import SparkSession\n",
    "\n",
    "sp = SparkSession.builder.appName('Demo').getOrCreate()"
   ]
  },
  {
   "cell_type": "code",
   "execution_count": 47,
   "metadata": {},
   "outputs": [],
   "source": [
    "internet = sp.read.csv('data/fact_internet_sales.csv', header=True, inferSchema=True)\n",
    "currency = sp.read.csv('data/dim_currency.csv', header=True, inferSchema=True)\n",
    "customer = sp.read.csv('data/dim_customer.csv', header=True, inferSchema=True)\n",
    "date = sp.read.csv('data/dim_date.csv', header=True, inferSchema=True)\n",
    "products = sp.read.csv('data/dim_product.csv', header=True, inferSchema=True)"
   ]
  },
  {
   "cell_type": "code",
   "execution_count": 48,
   "metadata": {},
   "outputs": [
    {
     "name": "stdout",
     "output_type": "stream",
     "text": [
      "+----------+------------+-----------+-----------+-------------+---------+--------------+--------------------+--------------+-------------------+----------------+-----------+--------+-------+\n",
      "|ProductKey|OrderDateKey|CustomerKey|CurrencyKey|OrderQuantity|UnitPrice|ExtendedAmount|UnitPriceDiscountPct|DiscountAmount|ProductStandardCost|TotalProductCost|SalesAmount|  TaxAmt|Freight|\n",
      "+----------+------------+-----------+-----------+-------------+---------+--------------+--------------------+--------------+-------------------+----------------+-----------+--------+-------+\n",
      "|       310|    20101229|      21768|         19|            1|  3578.27|       3578.27|                 0.0|           0.0|          2171.2942|       2171.2942|    3578.27|286.2616|89.4568|\n",
      "|       346|    20101229|      28389|         39|            1|  3399.99|       3399.99|                 0.0|           0.0|          1912.1544|       1912.1544|    3399.99|271.9992|84.9998|\n",
      "|       346|    20101229|      25863|        100|            1|  3399.99|       3399.99|                 0.0|           0.0|          1912.1544|       1912.1544|    3399.99|271.9992|84.9998|\n",
      "+----------+------------+-----------+-----------+-------------+---------+--------------+--------------------+--------------+-------------------+----------------+-----------+--------+-------+\n",
      "only showing top 3 rows\n",
      "\n"
     ]
    }
   ],
   "source": [
    "internet.show(3)"
   ]
  },
  {
   "cell_type": "code",
   "execution_count": 49,
   "metadata": {},
   "outputs": [
    {
     "name": "stdout",
     "output_type": "stream",
     "text": [
      "+----------+-------------------+------------------+------------------+-----+---------+----+------+-----------------+-------+\n",
      "|ProductKey|ProductAlternateKey|EnglishProductName|SpanishProductName|Color|ListPrice|Size|Weight|DaysToManufacture| Status|\n",
      "+----------+-------------------+------------------+------------------+-----+---------+----+------+-----------------+-------+\n",
      "|         1|            AR-5381|   Adjustable Race|              NULL|   NA|     NULL|NULL|  NULL|                0|Current|\n",
      "|         2|            BA-8327|      Bearing Ball|              NULL|   NA|     NULL|NULL|  NULL|                0|Current|\n",
      "|         3|            BE-2349|   BB Ball Bearing|              NULL|   NA|     NULL|NULL|  NULL|                1|Current|\n",
      "+----------+-------------------+------------------+------------------+-----+---------+----+------+-----------------+-------+\n",
      "only showing top 3 rows\n",
      "\n"
     ]
    }
   ],
   "source": [
    "products.show(3)"
   ]
  },
  {
   "cell_type": "code",
   "execution_count": 50,
   "metadata": {},
   "outputs": [],
   "source": [
    "df = (\n",
    "    internet\n",
    "      .join(currency, internet.CurrencyKey == currency.CurrencyKey, how='inner')\n",
    "      .join(customer, internet.CustomerKey == customer.CustomerKey, how='inner')\n",
    "      .join(date, internet.OrderDateKey == date.DateKey, how='inner')\n",
    "      .join(products, internet.ProductKey == products.ProductKey, how='inner')\n",
    ")"
   ]
  },
  {
   "cell_type": "code",
   "execution_count": 51,
   "metadata": {},
   "outputs": [
    {
     "name": "stdout",
     "output_type": "stream",
     "text": [
      "+----------+------------+-----------+-----------+-------------+---------+--------------+--------------------+--------------+-------------------+----------------+-----------+--------+-------+-----------+--------------------+---------------+-----------+---------+----------+--------+---------+----------+-------------+------+------+--------------------+------------+-------------+-------------------+------------+-------------------+--------+--------------------+---------------+--------------------+--------------------+----------------+---------------+----------------+----------------+----------------+-----------------+---------------+------------+----------------+-------------+----------+--------------+----------+-------------------+--------------------+--------------------+------+---------+----+------+-----------------+------+\n",
      "|ProductKey|OrderDateKey|CustomerKey|CurrencyKey|OrderQuantity|UnitPrice|ExtendedAmount|UnitPriceDiscountPct|DiscountAmount|ProductStandardCost|TotalProductCost|SalesAmount|  TaxAmt|Freight|CurrencyKey|CurrencyAlternateKey|   CurrencyName|CustomerKey|FirstName|MiddleName|LastName|NameStyle| BirthDate|MaritalStatus|Suffix|Gender|        EmailAddress|YearlyIncome|TotalChildren|       AddressLine1|AddressLine2|              Phone| DateKey|FullDateAlternateKey|DayNumberOfWeek|EnglishDayNameOfWeek|SpanishDayNameOfWeek|DayNumberOfMonth|DayNumberOfYear|WeekNumberOfYear|EnglishMonthName|SpanishMonthName|MonthNumberOfYear|CalendarQuarter|CalendarYear|CalendarSemester|FiscalQuarter|FiscalYear|FiscalSemester|ProductKey|ProductAlternateKey|  EnglishProductName|  SpanishProductName| Color|ListPrice|Size|Weight|DaysToManufacture|Status|\n",
      "+----------+------------+-----------+-----------+-------------+---------+--------------+--------------------+--------------+-------------------+----------------+-----------+--------+-------+-----------+--------------------+---------------+-----------+---------+----------+--------+---------+----------+-------------+------+------+--------------------+------------+-------------+-------------------+------------+-------------------+--------+--------------------+---------------+--------------------+--------------------+----------------+---------------+----------------+----------------+----------------+-----------------+---------------+------------+----------------+-------------+----------+--------------+----------+-------------------+--------------------+--------------------+------+---------+----+------+-----------------+------+\n",
      "|       310|    20101229|      21768|         19|            1|  3578.27|       3578.27|                 0.0|           0.0|          2171.2942|       2171.2942|    3578.27|286.2616|89.4568|         19|                 CAD|Canadian Dollar|      21768|     Cole|         A|  Watson|    false|1952-02-19|            S|  NULL|     M|cole1@adventure-w...|     70000.0|            5|   601 Asilomar Dr.|        NULL|       110-555-0129|20101229|          2010-12-29|              4|           Wednesday|           Miércoles|              29|            363|              53|        December|       Diciembre|               12|              4|        2010|               2|            2|      2011|             1|       310|         BK-R93R-62|    Road-150 Red, 62|Carretera: 150, r...|   Red|  3578.27|  62|  15.0|                4|  NULL|\n",
      "|       346|    20101229|      28389|         39|            1|  3399.99|       3399.99|                 0.0|           0.0|          1912.1544|       1912.1544|    3399.99|271.9992|84.9998|         39|                 FRF|   French Franc|      28389|  Rachael|         M|Martinez|    false|1970-06-17|            S|  NULL|     F|rachael16@adventu...|     20000.0|            3| 14, avenue du Port|        NULL|1 (11) 500 555-0190|20101229|          2010-12-29|              4|           Wednesday|           Miércoles|              29|            363|              53|        December|       Diciembre|               12|              4|        2010|               2|            2|      2011|             1|       346|         BK-M82S-44|Mountain-100 Silv...|Montaña: 100, pla...|Silver|  3399.99|  44| 21.13|                4|  NULL|\n",
      "|       346|    20101229|      25863|        100|            1|  3399.99|       3399.99|                 0.0|           0.0|          1912.1544|       1912.1544|    3399.99|271.9992|84.9998|        100|                 USD|      US Dollar|      25863|   Sydney|         S|  Wright|    false|1952-06-01|            S|  NULL|     F|sydney61@adventur...|     40000.0|            5|4193 E. 28th Street|        NULL|       285-555-0113|20101229|          2010-12-29|              4|           Wednesday|           Miércoles|              29|            363|              53|        December|       Diciembre|               12|              4|        2010|               2|            2|      2011|             1|       346|         BK-M82S-44|Mountain-100 Silv...|Montaña: 100, pla...|Silver|  3399.99|  44| 21.13|                4|  NULL|\n",
      "+----------+------------+-----------+-----------+-------------+---------+--------------+--------------------+--------------+-------------------+----------------+-----------+--------+-------+-----------+--------------------+---------------+-----------+---------+----------+--------+---------+----------+-------------+------+------+--------------------+------------+-------------+-------------------+------------+-------------------+--------+--------------------+---------------+--------------------+--------------------+----------------+---------------+----------------+----------------+----------------+-----------------+---------------+------------+----------------+-------------+----------+--------------+----------+-------------------+--------------------+--------------------+------+---------+----+------+-----------------+------+\n",
      "only showing top 3 rows\n",
      "\n"
     ]
    }
   ],
   "source": [
    "df.show(3)"
   ]
  },
  {
   "cell_type": "code",
   "execution_count": 52,
   "metadata": {},
   "outputs": [],
   "source": [
    "from pyspark.sql.functions import col\n",
    "\n",
    "df1 = df.filter(\n",
    "    (col('EnglishDayNameOfWeek') == 'Sunday') &\n",
    "    (col('Color') == 'Silver') &\n",
    "    (col('Size').isNotNull()) &\n",
    "    (col('Weight') >= 10) &\n",
    "    (col('YearlyIncome') >= 100_000) &\n",
    "    (col('TotalChildren') > 1)\n",
    ")"
   ]
  },
  {
   "cell_type": "code",
   "execution_count": 53,
   "metadata": {},
   "outputs": [
    {
     "name": "stdout",
     "output_type": "stream",
     "text": [
      "+----------+------------+-----------+-----------+-------------+---------+--------------+--------------------+--------------+-------------------+----------------+-----------+--------+-------+-----------+--------------------+--------------------+-----------+---------+----------+---------+---------+----------+-------------+------+------+--------------------+------------+-------------+--------------------+------------+-------------------+--------+--------------------+---------------+--------------------+--------------------+----------------+---------------+----------------+----------------+----------------+-----------------+---------------+------------+----------------+-------------+----------+--------------+----------+-------------------+--------------------+--------------------+------+---------+----+------+-----------------+-------+\n",
      "|ProductKey|OrderDateKey|CustomerKey|CurrencyKey|OrderQuantity|UnitPrice|ExtendedAmount|UnitPriceDiscountPct|DiscountAmount|ProductStandardCost|TotalProductCost|SalesAmount|  TaxAmt|Freight|CurrencyKey|CurrencyAlternateKey|        CurrencyName|CustomerKey|FirstName|MiddleName| LastName|NameStyle| BirthDate|MaritalStatus|Suffix|Gender|        EmailAddress|YearlyIncome|TotalChildren|        AddressLine1|AddressLine2|              Phone| DateKey|FullDateAlternateKey|DayNumberOfWeek|EnglishDayNameOfWeek|SpanishDayNameOfWeek|DayNumberOfMonth|DayNumberOfYear|WeekNumberOfYear|EnglishMonthName|SpanishMonthName|MonthNumberOfYear|CalendarQuarter|CalendarYear|CalendarSemester|FiscalQuarter|FiscalYear|FiscalSemester|ProductKey|ProductAlternateKey|  EnglishProductName|  SpanishProductName| Color|ListPrice|Size|Weight|DaysToManufacture| Status|\n",
      "+----------+------------+-----------+-----------+-------------+---------+--------------+--------------------+--------------+-------------------+----------------+-----------+--------+-------+-----------+--------------------+--------------------+-----------+---------+----------+---------+---------+----------+-------------+------+------+--------------------+------------+-------------+--------------------+------------+-------------------+--------+--------------------+---------------+--------------------+--------------------+----------------+---------------+----------------+----------------+----------------+-----------------+---------------+------------+----------------+-------------+----------+--------------+----------+-------------------+--------------------+--------------------+------+---------+----+------+-----------------+-------+\n",
      "|       344|    20110227|      11240|         98|            1|  3399.99|       3399.99|                 0.0|           0.0|          1912.1544|       1912.1544|    3399.99|271.9992|84.9998|         98|                 GBP|United Kingdom Pound|      11240|     Anne|         B|Hernandez|    false|1964-06-09|            M|  NULL|     F|anne4@adventure-w...|    160000.0|            2|    76 Woodcrest Dr.|        NULL|1 (11) 500 555-0119|20110227|          2011-02-27|              1|              Sunday|             Domingo|              27|             58|              10|        February|         Febrero|                2|              1|        2011|               1|            3|      2010|             2|       344|         BK-M82S-38|Mountain-100 Silv...|Montaña: 100, pla...|Silver|  3399.99|  38| 20.35|                4|   NULL|\n",
      "|       347|    20110717|      11456|          6|            1|  3399.99|       3399.99|                 0.0|           0.0|          1912.1544|       1912.1544|    3399.99|271.9992|84.9998|          6|                 AUD|   Australian Dollar|      11456|      Jon|         C|      Gao|    false|1980-01-05|            M|  NULL|     M|jon35@adventure-w...|    120000.0|            5|    6455 Garnet Lane|        NULL|1 (11) 500 555-0136|20110717|          2011-07-17|              1|              Sunday|             Domingo|              17|            198|              30|            July|           Julio|                7|              3|        2011|               2|            1|      2011|             1|       347|         BK-M82S-48|Mountain-100 Silv...|Montaña: 100, pla...|Silver|  3399.99|  48| 21.42|                4|   NULL|\n",
      "|       347|    20111009|      11249|        100|            1|  3399.99|       3399.99|                 0.0|           0.0|          1912.1544|       1912.1544|    3399.99|271.9992|84.9998|        100|                 USD|           US Dollar|      11249|    Cindy|         A|    Patel|    false|1966-07-09|            M|  NULL|     F|cindy3@adventure-...|    130000.0|            3|  Essener Straße 123|        NULL|1 (11) 500 555-0149|20111009|          2011-10-09|              1|              Sunday|             Domingo|               9|            282|              42|         October|         Octubre|               10|              4|        2011|               2|            2|      2011|             1|       347|         BK-M82S-48|Mountain-100 Silv...|Montaña: 100, pla...|Silver|  3399.99|  48| 21.42|                4|   NULL|\n",
      "|       344|    20111204|      26107|        100|            1|  3399.99|       3399.99|                 0.0|           0.0|          1912.1544|       1912.1544|    3399.99|271.9992|84.9998|        100|                 USD|           US Dollar|      26107|   Alexis|      NULL|   Thomas|    false|1965-10-10|            M|  NULL|     F|alexis10@adventur...|    130000.0|            4|   6987 Buchanan Ct.|        NULL|       150-555-0131|20111204|          2011-12-04|              1|              Sunday|             Domingo|               4|            338|              50|        December|       Diciembre|               12|              4|        2011|               2|            2|      2011|             1|       344|         BK-M82S-38|Mountain-100 Silv...|Montaña: 100, pla...|Silver|  3399.99|  38| 20.35|                4|   NULL|\n",
      "|       352|    20120708|      26718|        100|            1|2071.4196|     2071.4196|                 0.0|           0.0|          1117.8559|       1117.8559|  2071.4196|165.7136|51.7855|        100|                 USD|           US Dollar|      26718|  Richard|      NULL|   Flores|    false|1947-05-10|            M|  NULL|     M|richard67@adventu...|    100000.0|            2|  3029 Crescent Ave.|        NULL|       774-555-0146|20120708|          2012-07-08|              1|              Sunday|             Domingo|               8|            190|              28|            July|           Julio|                7|              3|        2012|               2|            1|      2012|             1|       352|         BK-M68S-38|Mountain-200 Silv...|Montaña: 200, pla...|Silver|2071.4196|  38| 23.35|                4|   NULL|\n",
      "|       355|    20121230|      11240|         98|            1|  2319.99|       2319.99|                 0.0|           0.0|          1265.6195|       1265.6195|    2319.99|185.5992|57.9998|         98|                 GBP|United Kingdom Pound|      11240|     Anne|         B|Hernandez|    false|1964-06-09|            M|  NULL|     F|anne4@adventure-w...|    160000.0|            2|    76 Woodcrest Dr.|        NULL|1 (11) 500 555-0119|20121230|          2012-12-30|              1|              Sunday|             Domingo|              30|            365|              53|        December|       Diciembre|               12|              4|        2012|               2|            2|      2012|             1|       355|         BK-M68S-42|Mountain-200 Silv...|Montaña: 200, pla...|Silver|  2319.99|  42| 23.77|                4|Current|\n",
      "|       355|    20130120|      11244|         98|            1|  2319.99|       2319.99|                 0.0|           0.0|          1265.6195|       1265.6195|    2319.99|185.5992|57.9998|         98|                 GBP|United Kingdom Pound|      11244|   Alexis|         M|  Coleman|    false|1968-11-22|            S|  NULL|     F|alexis28@adventur...|    170000.0|            2| 7140 Camelback Road|        NULL|1 (11) 500 555-0115|20130120|          2013-01-20|              1|              Sunday|             Domingo|              20|             20|               4|         January|           Enero|                1|              1|        2013|               1|            3|      2012|             2|       355|         BK-M68S-42|Mountain-200 Silv...|Montaña: 200, pla...|Silver|  2319.99|  42| 23.77|                4|Current|\n",
      "|       355|    20130210|      12123|         98|            1|  2319.99|       2319.99|                 0.0|           0.0|          1265.6195|       1265.6195|    2319.99|185.5992|57.9998|         98|                 GBP|United Kingdom Pound|      12123|   Wesley|         A|    Liang|    false|1963-12-12|            M|  NULL|     M|wesley16@adventur...|    170000.0|            2|6048 Nightingale ...|        NULL|1 (11) 500 555-0143|20130210|          2013-02-10|              1|              Sunday|             Domingo|              10|             41|               7|        February|         Febrero|                2|              1|        2013|               1|            3|      2012|             2|       355|         BK-M68S-42|Mountain-200 Silv...|Montaña: 200, pla...|Silver|  2319.99|  42| 23.77|                4|Current|\n",
      "|       357|    20130310|      12188|        100|            1|  2319.99|       2319.99|                 0.0|           0.0|          1265.6195|       1265.6195|    2319.99|185.5992|57.9998|        100|                 USD|           US Dollar|      12188|   Ashley|         J|   Thomas|    false|1965-11-20|            S|  NULL|     F|ashley11@adventur...|    110000.0|            3|    5071 Almaden Dr.|        NULL|       190-555-0190|20130310|          2013-03-10|              1|              Sunday|             Domingo|              10|             69|              11|           March|           Marzo|                3|              1|        2013|               1|            3|      2012|             2|       357|         BK-M68S-46|Mountain-200 Silv...|Montaña: 200, pla...|Silver|  2319.99|  46| 24.13|                4|Current|\n",
      "|       353|    20130317|      12133|         98|            1|  2319.99|       2319.99|                 0.0|           0.0|          1265.6195|       1265.6195|    2319.99|185.5992|57.9998|         98|                 GBP|United Kingdom Pound|      12133|  Colleen|         C|      Xie|    false|1961-06-24|            M|  NULL|     F|colleen27@adventu...|    130000.0|            3|       8976 E Leland|        NULL|1 (11) 500 555-0175|20130317|          2013-03-17|              1|              Sunday|             Domingo|              17|             76|              12|           March|           Marzo|                3|              1|        2013|               1|            3|      2012|             2|       353|         BK-M68S-38|Mountain-200 Silv...|Montaña: 200, pla...|Silver|  2319.99|  38| 23.35|                4|Current|\n",
      "|       357|    20130317|      12710|         19|            1|  2319.99|       2319.99|                 0.0|           0.0|          1265.6195|       1265.6195|    2319.99|185.5992|57.9998|         19|                 CAD|     Canadian Dollar|      12710|   Dalton|         E|    Evans|    false|1946-12-17|            S|  NULL|     M|dalton43@adventur...|    170000.0|            2|        3601 Stinson|          #7|       251-555-0135|20130317|          2013-03-17|              1|              Sunday|             Domingo|              17|             76|              12|           March|           Marzo|                3|              1|        2013|               1|            3|      2012|             2|       357|         BK-M68S-46|Mountain-200 Silv...|Montaña: 200, pla...|Silver|  2319.99|  46| 24.13|                4|Current|\n",
      "|       357|    20130331|      12637|         98|            1|  2319.99|       2319.99|                 0.0|           0.0|          1265.6195|       1265.6195|    2319.99|185.5992|57.9998|         98|                 GBP|United Kingdom Pound|      12637|  Leonard|         L|     Nath|    false|1951-08-30|            M|  NULL|     M|leonard20@adventu...|    130000.0|            4|        487 Ash Lane|        NULL|1 (11) 500 555-0146|20130331|          2013-03-31|              1|              Sunday|             Domingo|              31|             90|              14|           March|           Marzo|                3|              1|        2013|               1|            3|      2012|             2|       357|         BK-M68S-46|Mountain-200 Silv...|Montaña: 200, pla...|Silver|  2319.99|  46| 24.13|                4|Current|\n",
      "|       357|    20130331|      12364|        100|            1|  2319.99|       2319.99|                 0.0|           0.0|          1265.6195|       1265.6195|    2319.99|185.5992|57.9998|        100|                 USD|           US Dollar|      12364|     Erin|      NULL|   Rogers|    false|1947-04-27|            M|  NULL|     F|erin23@adventure-...|    130000.0|            2|    8387 E. Lane Rd.|        NULL|       920-555-0187|20130331|          2013-03-31|              1|              Sunday|             Domingo|              31|             90|              14|           March|           Marzo|                3|              1|        2013|               1|            3|      2012|             2|       357|         BK-M68S-46|Mountain-200 Silv...|Montaña: 200, pla...|Silver|  2319.99|  46| 24.13|                4|Current|\n",
      "|       355|    20130414|      13189|        100|            1|  2319.99|       2319.99|                 0.0|           0.0|          1265.6195|       1265.6195|    2319.99|185.5992|57.9998|        100|                 USD|           US Dollar|      13189|   Gloria|         R|   Romero|    false|1953-03-31|            S|  NULL|     F|gloria9@adventure...|    120000.0|            2|       598 La Canada|        NULL|       830-555-0173|20130414|          2013-04-14|              1|              Sunday|             Domingo|              14|            104|              16|           April|           Abril|                4|              2|        2013|               1|            4|      2012|             2|       355|         BK-M68S-42|Mountain-200 Silv...|Montaña: 200, pla...|Silver|  2319.99|  42| 23.77|                4|Current|\n",
      "|       357|    20130421|      12209|        100|            1|  2319.99|       2319.99|                 0.0|           0.0|          1265.6195|       1265.6195|    2319.99|185.5992|57.9998|        100|                 USD|           US Dollar|      12209|    Mindy|      NULL|      Jai|    false|1945-12-24|            M|  NULL|     F|mindy16@adventure...|    130000.0|            2|      7559 Worth Ct.|        NULL|       520-555-0110|20130421|          2013-04-21|              1|              Sunday|             Domingo|              21|            111|              17|           April|           Abril|                4|              2|        2013|               1|            4|      2012|             2|       357|         BK-M68S-46|Mountain-200 Silv...|Montaña: 200, pla...|Silver|  2319.99|  46| 24.13|                4|Current|\n",
      "|       357|    20130505|      13278|        100|            1|  2319.99|       2319.99|                 0.0|           0.0|          1265.6195|       1265.6195|    2319.99|185.5992|57.9998|        100|                 USD|           US Dollar|      13278|    Jorge|      NULL|       Hu|    false|1971-05-09|            S|  NULL|     M|jorge23@adventure...|    110000.0|            2|6121 Chilpancingo Pk|        NULL|       285-555-0110|20130505|          2013-05-05|              1|              Sunday|             Domingo|               5|            125|              19|             May|            Mayo|                5|              2|        2013|               1|            4|      2012|             2|       357|         BK-M68S-46|Mountain-200 Silv...|Montaña: 200, pla...|Silver|  2319.99|  46| 24.13|                4|Current|\n",
      "|       357|    20130526|      13581|         98|            1|  2319.99|       2319.99|                 0.0|           0.0|          1265.6195|       1265.6195|    2319.99|185.5992|57.9998|         98|                 GBP|United Kingdom Pound|      13581|   Albert|         W|   Blanco|    false|1952-04-17|            M|  NULL|     M|albert15@adventur...|    130000.0|            4|      3316 Balhan Dr|        NULL|1 (11) 500 555-0130|20130526|          2013-05-26|              1|              Sunday|             Domingo|              26|            146|              22|             May|            Mayo|                5|              2|        2013|               1|            4|      2012|             2|       357|         BK-M68S-46|Mountain-200 Silv...|Montaña: 200, pla...|Silver|  2319.99|  46| 24.13|                4|Current|\n",
      "|       592|    20130526|      11242|        100|            1|   564.99|        564.99|                 0.0|           0.0|           308.2179|        308.2179|     564.99| 45.1992|14.1248|        100|                 USD|           US Dollar|      11242|    Larry|      NULL|    Munoz|    false|1963-05-11|            M|  NULL|     M|larry9@adventure-...|    110000.0|            2|       Midi-Couleurs|        NULL|1 (11) 500 555-0193|20130526|          2013-05-26|              1|              Sunday|             Domingo|              26|            146|              22|             May|            Mayo|                5|              2|        2013|               1|            4|      2012|             2|       592|         BK-M18S-42|Mountain-500 Silv...|Montaña: 500, pla...|Silver|   564.99|  42| 27.77|                4|Current|\n",
      "|       357|    20130616|      13263|        100|            1|  2319.99|       2319.99|                 0.0|           0.0|          1265.6195|       1265.6195|    2319.99|185.5992|57.9998|        100|                 USD|           US Dollar|      13263|     Kate|         K|    Anand|    false|1961-10-22|            S|  NULL|     F|kate19@adventure-...|    110000.0|            2|    4855 James Court|        NULL|1 (11) 500 555-0179|20130616|          2013-06-16|              1|              Sunday|             Domingo|              16|            167|              25|            June|           Junio|                6|              2|        2013|               1|            4|      2012|             2|       357|         BK-M68S-46|Mountain-200 Silv...|Montaña: 200, pla...|Silver|  2319.99|  46| 24.13|                4|Current|\n",
      "|       355|    20130623|      13658|        100|            1|  2319.99|       2319.99|                 0.0|           0.0|          1265.6195|       1265.6195|    2319.99|185.5992|57.9998|        100|                 USD|           US Dollar|      13658|    Wyatt|         J|  Bennett|    false|1946-09-10|            M|  NULL|     M|wyatt53@adventure...|    130000.0|            2|        9928 Stinson|        NULL|       198-555-0197|20130623|          2013-06-23|              1|              Sunday|             Domingo|              23|            174|              26|            June|           Junio|                6|              2|        2013|               1|            4|      2012|             2|       355|         BK-M68S-42|Mountain-200 Silv...|Montaña: 200, pla...|Silver|  2319.99|  42| 23.77|                4|Current|\n",
      "+----------+------------+-----------+-----------+-------------+---------+--------------+--------------------+--------------+-------------------+----------------+-----------+--------+-------+-----------+--------------------+--------------------+-----------+---------+----------+---------+---------+----------+-------------+------+------+--------------------+------------+-------------+--------------------+------------+-------------------+--------+--------------------+---------------+--------------------+--------------------+----------------+---------------+----------------+----------------+----------------+-----------------+---------------+------------+----------------+-------------+----------+--------------+----------+-------------------+--------------------+--------------------+------+---------+----+------+-----------------+-------+\n",
      "only showing top 20 rows\n",
      "\n"
     ]
    }
   ],
   "source": [
    "df1.show()"
   ]
  },
  {
   "cell_type": "code",
   "execution_count": 62,
   "metadata": {},
   "outputs": [
    {
     "name": "stdout",
     "output_type": "stream",
     "text": [
      "+------------+---------+-----------+----------------+---------------------+\n",
      "|OrderDateKey|FirstName|sum(TaxAmt)|avg(SalesAmount)|avg(TotalProductCost)|\n",
      "+------------+---------+-----------+----------------+---------------------+\n",
      "|    20110112|  Shannon|   269.9992|         3374.99|            1898.0944|\n",
      "|    20110205|    Andre|   286.2616|         3578.27|            2171.2942|\n",
      "|    20110209|    Paula|   286.2616|         3578.27|            2171.2942|\n",
      "+------------+---------+-----------+----------------+---------------------+\n",
      "only showing top 3 rows\n",
      "\n"
     ]
    }
   ],
   "source": [
    "from pyspark.sql.functions import sum, avg\n",
    "\n",
    "df2 = df.groupBy('OrderDateKey', 'FirstName').agg(\n",
    "    sum('TaxAmt'),  \n",
    "    avg('SalesAmount'),\n",
    "    avg('TotalProductCost')\n",
    ")\n",
    "\n",
    "df2.show(3)\n"
   ]
  },
  {
   "cell_type": "code",
   "execution_count": null,
   "metadata": {},
   "outputs": [
    {
     "name": "stdout",
     "output_type": "stream",
     "text": [
      "+------------+---------+-----------+----------------+---------------------+\n",
      "|OrderDateKey|FirstName|sum(TaxAmt)|avg(SalesAmount)|avg(TotalProductCost)|\n",
      "+------------+---------+-----------+----------------+---------------------+\n",
      "|    20110112|  Shannon|   269.9992|         3374.99|            1898.0944|\n",
      "|    20110205|    Andre|   286.2616|         3578.27|            2171.2942|\n",
      "|    20110209|    Paula|   286.2616|         3578.27|            2171.2942|\n",
      "|    20110216|     Kyle|   286.2616|         3578.27|            2171.2942|\n",
      "|    20110322|   Sydney|   286.2616|         3578.27|            2171.2942|\n",
      "|    20110429|   Briana|   286.2616|         3578.27|            2171.2942|\n",
      "|    20110502|   Isaiah|   286.2616|         3578.27|            2171.2942|\n",
      "|    20110512|   Dennis|    55.9279|        699.0982|             413.1463|\n",
      "|    20110513|   Jessie|   271.9992|         3399.99|            1912.1544|\n",
      "|    20110607| Isabella|    55.9279|        699.0982|             413.1463|\n",
      "|    20110624|   Edward|   269.9992|         3374.99|            1898.0944|\n",
      "|    20110703|    Jenna|   269.9992|         3374.99|            1898.0944|\n",
      "|    20110831|  Shannon|   286.2616|         3578.27|            2171.2942|\n",
      "|    20111009| Brittney|   286.2616|         3578.27|            2171.2942|\n",
      "|    20111022| Fernando|   286.2616|         3578.27|            2171.2942|\n",
      "|    20111112|  Gabriel|    55.9279|        699.0982|             413.1463|\n",
      "|    20111202|  Madison|   286.2616|         3578.27|            2171.2942|\n",
      "|    20120119|   Olivia|    195.468|         2443.35|            1518.7864|\n",
      "|    20120225|Elizabeth|    174.525|       2181.5625|            1320.6838|\n",
      "|    20120229|  Brianna|   165.7136|       2071.4196|            1117.8559|\n",
      "+------------+---------+-----------+----------------+---------------------+\n",
      "only showing top 20 rows\n",
      "\n"
     ]
    }
   ],
   "source": [
    "df2.orderBy('Firstname')\n",
    "df2.show()"
   ]
  },
  {
   "cell_type": "code",
   "execution_count": 65,
   "metadata": {},
   "outputs": [
    {
     "name": "stdout",
     "output_type": "stream",
     "text": [
      "+---------+-----------+----------------+---------------------+\n",
      "|FirstName|sum(TaxAmt)|avg(SalesAmount)|avg(TotalProductCost)|\n",
      "+---------+-----------+----------------+---------------------+\n",
      "|  Shannon|   269.9992|         3374.99|            1898.0944|\n",
      "|    Andre|   286.2616|         3578.27|            2171.2942|\n",
      "|    Paula|   286.2616|         3578.27|            2171.2942|\n",
      "|     Kyle|   286.2616|         3578.27|            2171.2942|\n",
      "|   Sydney|   286.2616|         3578.27|            2171.2942|\n",
      "|   Briana|   286.2616|         3578.27|            2171.2942|\n",
      "|   Isaiah|   286.2616|         3578.27|            2171.2942|\n",
      "|   Dennis|    55.9279|        699.0982|             413.1463|\n",
      "|   Jessie|   271.9992|         3399.99|            1912.1544|\n",
      "| Isabella|    55.9279|        699.0982|             413.1463|\n",
      "|   Edward|   269.9992|         3374.99|            1898.0944|\n",
      "|    Jenna|   269.9992|         3374.99|            1898.0944|\n",
      "|  Shannon|   286.2616|         3578.27|            2171.2942|\n",
      "| Brittney|   286.2616|         3578.27|            2171.2942|\n",
      "| Fernando|   286.2616|         3578.27|            2171.2942|\n",
      "|  Gabriel|    55.9279|        699.0982|             413.1463|\n",
      "|  Madison|   286.2616|         3578.27|            2171.2942|\n",
      "|   Olivia|    195.468|         2443.35|            1518.7864|\n",
      "|Elizabeth|    174.525|       2181.5625|            1320.6838|\n",
      "|  Brianna|   165.7136|       2071.4196|            1117.8559|\n",
      "+---------+-----------+----------------+---------------------+\n",
      "only showing top 20 rows\n",
      "\n"
     ]
    }
   ],
   "source": [
    "df2 = df2.drop('OrderDateKey')\n",
    "df2.show()"
   ]
  }
 ],
 "metadata": {
  "kernelspec": {
   "display_name": "Python 3",
   "language": "python",
   "name": "python3"
  },
  "language_info": {
   "codemirror_mode": {
    "name": "ipython",
    "version": 3
   },
   "file_extension": ".py",
   "mimetype": "text/x-python",
   "name": "python",
   "nbconvert_exporter": "python",
   "pygments_lexer": "ipython3",
   "version": "3.12.6"
  }
 },
 "nbformat": 4,
 "nbformat_minor": 2
}
