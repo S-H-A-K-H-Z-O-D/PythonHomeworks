{
 "cells": [
  {
   "cell_type": "markdown",
   "metadata": {},
   "source": [
    "Task 1"
   ]
  },
  {
   "cell_type": "code",
   "execution_count": null,
   "metadata": {},
   "outputs": [],
   "source": [
    "file = open(\"sample.txt\", mode=\"r\", encoding=\"utf-8\")\n",
    "file.read()"
   ]
  },
  {
   "cell_type": "markdown",
   "metadata": {},
   "source": [
    "Task 2"
   ]
  },
  {
   "cell_type": "code",
   "execution_count": null,
   "metadata": {},
   "outputs": [],
   "source": [
    "file = open(\"sample.txt\", mode=\"r\", encoding=\"utf-8\")\n",
    "\n",
    "for el in file.readlines()[:5]:\n",
    "    print(el, end=\"\")\n",
    "\n",
    "file.close()"
   ]
  },
  {
   "cell_type": "markdown",
   "metadata": {},
   "source": [
    "Task 3"
   ]
  },
  {
   "cell_type": "code",
   "execution_count": 29,
   "metadata": {},
   "outputs": [],
   "source": [
    "file = open(\"sample.txt\", mode=\"a\")\n",
    "\n",
    "file.write(\"tenth\")\n",
    "\n",
    "file.close()"
   ]
  },
  {
   "cell_type": "markdown",
   "metadata": {},
   "source": [
    "Task 4"
   ]
  },
  {
   "cell_type": "code",
   "execution_count": 30,
   "metadata": {},
   "outputs": [
    {
     "name": "stdout",
     "output_type": "stream",
     "text": [
      "first\n",
      "second\n"
     ]
    }
   ],
   "source": [
    "file = open(\"sample.txt\", mode=\"r\", encoding=\"utf-8\")\n",
    "\n",
    "for el in file.readlines()[:2]:\n",
    "    print(el, end=\"\")\n",
    "\n",
    "file.close()"
   ]
  },
  {
   "cell_type": "markdown",
   "metadata": {},
   "source": [
    "Task 5"
   ]
  },
  {
   "cell_type": "code",
   "execution_count": 35,
   "metadata": {},
   "outputs": [
    {
     "name": "stdout",
     "output_type": "stream",
     "text": [
      "['first\\n', 'second\\n', 'third\\n', 'fourth\\n', 'fifth\\n', 'sixth\\n', 'seventh\\n', 'eighth\\n', 'ninth\\n', 'tenth']\n"
     ]
    }
   ],
   "source": [
    "file = open(\"sample.txt\")\n",
    "arr = []\n",
    "\n",
    "for el in file:\n",
    "    arr.append(el)\n",
    "\n",
    "print(arr)"
   ]
  },
  {
   "cell_type": "markdown",
   "metadata": {},
   "source": [
    "Task 6"
   ]
  },
  {
   "cell_type": "code",
   "execution_count": null,
   "metadata": {},
   "outputs": [],
   "source": [
    "def read_file_to_variable(file_path):\n",
    "    content = \"\"\n",
    "    try:\n",
    "        with open(file_path, 'r') as file:\n",
    "            content = file.read()\n",
    "    except FileNotFoundError as err:\n",
    "        print(err)\n",
    "\n",
    "    return content\n",
    "\n",
    "file_content = read_file_to_variable(\"sample.txt\")\n",
    "print(file_content)\n"
   ]
  },
  {
   "cell_type": "markdown",
   "metadata": {},
   "source": [
    "Task 7"
   ]
  },
  {
   "cell_type": "code",
   "execution_count": null,
   "metadata": {},
   "outputs": [],
   "source": [
    "file = open(\"sample.txt\")\n",
    "arr = []\n",
    "\n",
    "for el in file:\n",
    "    arr.append(el)\n",
    "\n",
    "print(arr)"
   ]
  },
  {
   "cell_type": "markdown",
   "metadata": {},
   "source": [
    "Task 8"
   ]
  },
  {
   "cell_type": "code",
   "execution_count": 37,
   "metadata": {},
   "outputs": [
    {
     "name": "stdout",
     "output_type": "stream",
     "text": [
      "seventh\n",
      "\n"
     ]
    }
   ],
   "source": [
    "file = open(\"sample.txt\")\n",
    "longestWord = \"\"\n",
    "\n",
    "for el in file:\n",
    "    if len(longestWord) < len(el):\n",
    "        longestWord = el\n",
    "\n",
    "print(longestWord)"
   ]
  },
  {
   "cell_type": "markdown",
   "metadata": {},
   "source": [
    "Task 9"
   ]
  },
  {
   "cell_type": "code",
   "execution_count": 41,
   "metadata": {},
   "outputs": [
    {
     "name": "stdout",
     "output_type": "stream",
     "text": [
      "10\n"
     ]
    }
   ],
   "source": [
    "file = open(\"sample.txt\")\n",
    "\n",
    "num = len(file.readlines())\n",
    "\n",
    "print(num)"
   ]
  },
  {
   "cell_type": "markdown",
   "metadata": {},
   "source": [
    "Task 11"
   ]
  },
  {
   "cell_type": "code",
   "execution_count": 44,
   "metadata": {},
   "outputs": [
    {
     "name": "stdout",
     "output_type": "stream",
     "text": [
      "73\n"
     ]
    }
   ],
   "source": [
    "def file_size(fname):\n",
    "    import os\n",
    "    statinfo = os.stat(fname)\n",
    "    return statinfo.st_size\n",
    "\n",
    "print(file_size(\"sample.txt\"))"
   ]
  },
  {
   "cell_type": "markdown",
   "metadata": {},
   "source": [
    "Task 12"
   ]
  },
  {
   "cell_type": "code",
   "execution_count": 2,
   "metadata": {},
   "outputs": [],
   "source": [
    "color = ['Red', 'Green', 'White', 'Black', 'Pink', 'Yellow']\n",
    "\n",
    "with open(\"sample.txt\", \"a\") as file:\n",
    "    for el in color:\n",
    "        file.write(f\"{el}\\n\")\n"
   ]
  },
  {
   "cell_type": "markdown",
   "metadata": {},
   "source": [
    "Task 13"
   ]
  },
  {
   "cell_type": "code",
   "execution_count": 4,
   "metadata": {},
   "outputs": [
    {
     "data": {
      "text/plain": [
       "'sample1.txt'"
      ]
     },
     "execution_count": 4,
     "metadata": {},
     "output_type": "execute_result"
    }
   ],
   "source": [
    "import shutil\n",
    "\n",
    "shutil.copyfile(\"sample.txt\", \"sample1.txt\")"
   ]
  },
  {
   "cell_type": "markdown",
   "metadata": {},
   "source": [
    "Task 14"
   ]
  },
  {
   "cell_type": "code",
   "execution_count": null,
   "metadata": {},
   "outputs": [],
   "source": [
    "with open(\"sample.txt\") as file1:\n",
    "    with open(\"sample1.txt\") as file2:\n",
    "\n",
    "        one = file1.readlines()\n",
    "        two = file2.readlines()\n",
    "\n",
    "        for i in range(len(one)):\n",
    "            print(f\"{one[i].strip()} and {two[i].strip()}\")"
   ]
  },
  {
   "cell_type": "markdown",
   "metadata": {},
   "source": [
    "Task 15"
   ]
  },
  {
   "cell_type": "code",
   "execution_count": 30,
   "metadata": {},
   "outputs": [
    {
     "name": "stdout",
     "output_type": "stream",
     "text": [
      "ninth\n"
     ]
    }
   ],
   "source": [
    "import random\n",
    "\n",
    "file = open(\"sample.txt\")\n",
    "a = file.read().splitlines()\n",
    "\n",
    "print(random.choice(a))"
   ]
  },
  {
   "cell_type": "markdown",
   "metadata": {},
   "source": [
    "Task 16"
   ]
  },
  {
   "cell_type": "code",
   "execution_count": null,
   "metadata": {},
   "outputs": [],
   "source": [
    "file = open(\"sample.txt\")\n",
    "print(file.closed)\n",
    "\n",
    "file.close()\n",
    "print(file.closed)"
   ]
  },
  {
   "cell_type": "markdown",
   "metadata": {},
   "source": [
    "Task 17"
   ]
  },
  {
   "cell_type": "code",
   "execution_count": 33,
   "metadata": {},
   "outputs": [],
   "source": [
    "with open(\"sample.txt\") as initFile:\n",
    "    cont = initFile.read()\n",
    "\n",
    "new_cont = cont.replace(\"\\n\", \" \")\n",
    "\n",
    "with open(\"sample.txt\", \"w\") as lastFile:\n",
    "    lastFile.write(new_cont)\n"
   ]
  },
  {
   "cell_type": "markdown",
   "metadata": {},
   "source": [
    "Task 18"
   ]
  },
  {
   "cell_type": "code",
   "execution_count": 43,
   "metadata": {},
   "outputs": [
    {
     "name": "stdout",
     "output_type": "stream",
     "text": [
      "22\n"
     ]
    }
   ],
   "source": [
    "with open(\"sample.txt\") as initFile:\n",
    "    cont = initFile.read().strip().replace(\",\", \" \").split(\" \")\n",
    "    print(len(cont))"
   ]
  },
  {
   "cell_type": "markdown",
   "metadata": {},
   "source": [
    "Task 19"
   ]
  },
  {
   "cell_type": "code",
   "execution_count": null,
   "metadata": {},
   "outputs": [],
   "source": [
    "import glob\n",
    "char_list = []\n",
    "files_list = glob.glob(\"*.txt\")\n",
    "for file_elem in files_list:\n",
    "   with open(file_elem, \"r\") as f:\n",
    "       char_list.append(f.read())\n",
    "print(char_list)\n",
    "print(files_list)"
   ]
  },
  {
   "cell_type": "markdown",
   "metadata": {},
   "source": [
    "Task 20"
   ]
  },
  {
   "cell_type": "code",
   "execution_count": 49,
   "metadata": {},
   "outputs": [
    {
     "name": "stdout",
     "output_type": "stream",
     "text": [
      "Files created successfully.\n"
     ]
    }
   ],
   "source": [
    "import os\n",
    "\n",
    "directory = \"letters\"\n",
    "if not os.path.exists(directory):\n",
    "    os.makedirs(directory)\n",
    "\n",
    "letters = [\"A\", \"B\", \"C\", \"D\", \"E\", \"F\", \"G\", \"H\", \"I\", \"J\", \"K\", \"L\", \"M\", \"N\", \"O\", \"P\", \"Q\", \"R\", \"S\", \"T\", \"U\", \"V\", \"W\", \"X\", \"Y\", \"Z\"]\n",
    "\n",
    "for el in letters:\n",
    "    with open(os.path.join(directory, el + \".txt\"), \"w\") as file:\n",
    "        file.write(el)\n",
    "\n",
    "print(\"Files created successfully.\")\n"
   ]
  },
  {
   "cell_type": "markdown",
   "metadata": {},
   "source": [
    "Task 21"
   ]
  },
  {
   "cell_type": "code",
   "execution_count": null,
   "metadata": {},
   "outputs": [],
   "source": [
    "letters = [\"A\", \"B\", \"C\", \"D\", \"E\", \"F\", \"G\", \"H\", \"I\", \"J\", \"K\", \"L\", \"M\", \"N\", \"O\", \"P\", \"Q\", \"R\", \"S\", \"T\", \"U\", \"V\", \"W\", \"X\", \"Y\", \"Z\"]\n",
    "\n",
    "with open(\"sample1.txt\", \"w\") as file:\n",
    "    file.write('')\n",
    "\n",
    "\n",
    "with open(\"sample1.txt\", \"a\") as file:\n",
    "    for i in range(len(letters)):\n",
    "        if (i+1) % 4 == 0:\n",
    "            file.write(letters[i] + '\\n')\n",
    "        else:\n",
    "            file.write(letters[i] + ',')\n"
   ]
  }
 ],
 "metadata": {
  "kernelspec": {
   "display_name": "Python 3",
   "language": "python",
   "name": "python3"
  },
  "language_info": {
   "codemirror_mode": {
    "name": "ipython",
    "version": 3
   },
   "file_extension": ".py",
   "mimetype": "text/x-python",
   "name": "python",
   "nbconvert_exporter": "python",
   "pygments_lexer": "ipython3",
   "version": "3.13.0"
  }
 },
 "nbformat": 4,
 "nbformat_minor": 2
}
