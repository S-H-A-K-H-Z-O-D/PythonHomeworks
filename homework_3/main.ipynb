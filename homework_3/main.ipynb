{
 "cells": [
  {
   "cell_type": "markdown",
   "metadata": {},
   "source": [
    "Task 1"
   ]
  },
  {
   "cell_type": "code",
   "execution_count": null,
   "metadata": {},
   "outputs": [],
   "source": [
    "arr = [1, 5, 6, 7, 2, 1, 8, 1]\n",
    "a = 1\n",
    "\n",
    "print(arr.count(a))"
   ]
  },
  {
   "cell_type": "markdown",
   "metadata": {},
   "source": [
    "Task 2"
   ]
  },
  {
   "cell_type": "code",
   "execution_count": null,
   "metadata": {},
   "outputs": [],
   "source": [
    "arr = [1, 5, 6, 7, 2, 1, 8, 1]\n",
    "sum = 0\n",
    "for el in arr:\n",
    "    sum += el\n",
    "\n",
    "print(sum)"
   ]
  },
  {
   "cell_type": "markdown",
   "metadata": {},
   "source": [
    "Task 3"
   ]
  },
  {
   "cell_type": "code",
   "execution_count": null,
   "metadata": {},
   "outputs": [],
   "source": [
    "arr = [1, 5, 6, 7, 2, 1, 8, 1]\n",
    "a = arr[0]\n",
    "\n",
    "for el in arr:\n",
    "    if a < el:\n",
    "        a = el\n",
    "\n",
    "print(a)\n",
    "\n",
    "# OR\n",
    "\n",
    "print(max(arr))"
   ]
  },
  {
   "cell_type": "markdown",
   "metadata": {},
   "source": [
    "Task 4\n"
   ]
  },
  {
   "cell_type": "code",
   "execution_count": null,
   "metadata": {},
   "outputs": [],
   "source": [
    "arr = [1, 5, 6, 7, 2, 1, 8, 1, -1]\n",
    "a = arr[0]\n",
    "\n",
    "for el in arr:\n",
    "    if a > el:\n",
    "        a = el\n",
    "\n",
    "print(a)\n",
    "\n",
    "# OR\n",
    "\n",
    "print(min(arr))"
   ]
  },
  {
   "cell_type": "markdown",
   "metadata": {},
   "source": [
    "Task 5\n"
   ]
  },
  {
   "cell_type": "code",
   "execution_count": null,
   "metadata": {},
   "outputs": [],
   "source": [
    "arr = [1, 5, 6, 7, 2, 1, 8, 1, -1]\n",
    "a = 5\n",
    "\n",
    "print(a in arr)"
   ]
  },
  {
   "cell_type": "markdown",
   "metadata": {},
   "source": [
    "Task 6\n"
   ]
  },
  {
   "cell_type": "code",
   "execution_count": null,
   "metadata": {},
   "outputs": [],
   "source": [
    "arr = [1, 5, 6, 7, 2, 1, 8, 1, -1]\n",
    "if len(arr) > 0:\n",
    "    print(arr[0])\n",
    "else:\n",
    "    print(arr)"
   ]
  },
  {
   "cell_type": "markdown",
   "metadata": {},
   "source": [
    "Task 7\n"
   ]
  },
  {
   "cell_type": "code",
   "execution_count": null,
   "metadata": {},
   "outputs": [],
   "source": [
    "arr = [1, 5, 6, 7, 2, 1, 8, 1, -1]\n",
    "if len(arr) > 0:\n",
    "    print(arr[len(arr) - 1])\n",
    "else:\n",
    "    print(arr)"
   ]
  },
  {
   "cell_type": "markdown",
   "metadata": {},
   "source": [
    "Task 8"
   ]
  },
  {
   "cell_type": "code",
   "execution_count": null,
   "metadata": {},
   "outputs": [],
   "source": [
    "arr = [1, 5, 6, 7, 2, 1, 8, 1, -1]\n",
    "new = arr[:3]\n",
    "\n",
    "print(new)"
   ]
  },
  {
   "cell_type": "markdown",
   "metadata": {},
   "source": [
    "Task 9"
   ]
  },
  {
   "cell_type": "code",
   "execution_count": null,
   "metadata": {},
   "outputs": [],
   "source": [
    "arr = [1, 5, 6, 7, 2, 1, 8, 1, -1]\n",
    "reversed = arr[::-1]\n",
    "\n",
    "print(reversed)\n",
    "\n",
    "# OR\n",
    "\n",
    "arr.reverse()\n",
    "print(arr)"
   ]
  },
  {
   "cell_type": "markdown",
   "metadata": {},
   "source": [
    "Task 10"
   ]
  },
  {
   "cell_type": "code",
   "execution_count": null,
   "metadata": {},
   "outputs": [],
   "source": [
    "arr = [1, 5, 6, 7, 2, 1, 8, 1, -1]\n",
    "\n",
    "arr.sort()\n",
    "\n",
    "print(arr)"
   ]
  },
  {
   "cell_type": "markdown",
   "metadata": {},
   "source": [
    "Task 11"
   ]
  },
  {
   "cell_type": "code",
   "execution_count": null,
   "metadata": {},
   "outputs": [],
   "source": [
    "arr = [1, 5, 6, 7, 2, 1, 8, 1, -1]\n",
    "newArr = list(set(arr))\n",
    "\n",
    "print(newArr)\n",
    "\n",
    "# OR\n",
    "\n",
    "newOne = []\n",
    "\n",
    "for el in arr:\n",
    "    if el not in newOne:\n",
    "        newOne.append(el)\n",
    "\n",
    "print(newOne)"
   ]
  },
  {
   "cell_type": "markdown",
   "metadata": {},
   "source": [
    "Task 12"
   ]
  },
  {
   "cell_type": "code",
   "execution_count": null,
   "metadata": {},
   "outputs": [],
   "source": [
    "arr = [1, 5, 6, 7, 2, 1, 8, 1, -1]\n",
    "\n",
    "arr.insert(5, \"15\")\n",
    "\n",
    "print(arr)"
   ]
  },
  {
   "cell_type": "markdown",
   "metadata": {},
   "source": [
    "Task 13"
   ]
  },
  {
   "cell_type": "code",
   "execution_count": null,
   "metadata": {},
   "outputs": [],
   "source": [
    "arr = [1, 5, 6, 7, 2, 1, 8, 1, -1]\n",
    "a = 1\n",
    "\n",
    "print(arr.index(a))"
   ]
  },
  {
   "cell_type": "markdown",
   "metadata": {},
   "source": [
    "Task 14"
   ]
  },
  {
   "cell_type": "code",
   "execution_count": null,
   "metadata": {},
   "outputs": [],
   "source": [
    "arr = []\n",
    "\n",
    "if not arr:\n",
    "    print(\"arr is empty\")\n",
    "else:\n",
    "    print(\"arr is not empty\")"
   ]
  },
  {
   "cell_type": "markdown",
   "metadata": {},
   "source": [
    "Task 15"
   ]
  },
  {
   "cell_type": "code",
   "execution_count": null,
   "metadata": {},
   "outputs": [],
   "source": [
    "arr = [1, 5, 6, 7, 2, 1, 8, 1, -1]\n",
    "count = 0\n",
    "for el in arr:\n",
    "    if el % 2 == 0:\n",
    "        count += 1\n",
    "\n",
    "print(count)"
   ]
  },
  {
   "cell_type": "markdown",
   "metadata": {},
   "source": [
    "Task 16"
   ]
  },
  {
   "cell_type": "code",
   "execution_count": null,
   "metadata": {},
   "outputs": [],
   "source": [
    "arr = [1, 5, 6, 7, 2, 1, 8, 1, -1]\n",
    "count = 0\n",
    "for el in arr:\n",
    "    if el % 2 != 0:\n",
    "        count += 1\n",
    "\n",
    "print(count)"
   ]
  },
  {
   "cell_type": "markdown",
   "metadata": {},
   "source": [
    "Task 17"
   ]
  },
  {
   "cell_type": "code",
   "execution_count": null,
   "metadata": {},
   "outputs": [],
   "source": [
    "arr1 = [5, \"ad\", 66]\n",
    "arr2 = [57, \"asdad\", (\"4\", 5), 66]\n",
    "\n",
    "print(arr1 + arr2)"
   ]
  },
  {
   "cell_type": "markdown",
   "metadata": {},
   "source": [
    "Task 18"
   ]
  },
  {
   "cell_type": "code",
   "execution_count": null,
   "metadata": {},
   "outputs": [],
   "source": [
    "arr = [1, 5, 6, 7, 2, 1, 8, 1, -1]\n",
    "sublist = [1, 0, 6]\n",
    "\n",
    "lenth = len(sublist)\n",
    "\n",
    "for el in arr:\n",
    "    i = arr.index(el)\n",
    "    if arr[i:i + lenth] == sublist:\n",
    "        print(\"True\")\n",
    "        break\n",
    "    else:\n",
    "        print(\"False\")\n",
    "        break"
   ]
  },
  {
   "cell_type": "markdown",
   "metadata": {},
   "source": [
    "Task 19"
   ]
  },
  {
   "cell_type": "code",
   "execution_count": null,
   "metadata": {},
   "outputs": [],
   "source": [
    "arr = [1, 5, 6, 7, 2, 1, 8, 1, -1]\n",
    "old = 5\n",
    "new = 500\n",
    "\n",
    "i = arr.index(old)\n",
    "arr[i] = new\n",
    "\n",
    "print(arr)"
   ]
  },
  {
   "cell_type": "markdown",
   "metadata": {},
   "source": [
    "Task 20"
   ]
  },
  {
   "cell_type": "code",
   "execution_count": null,
   "metadata": {},
   "outputs": [],
   "source": [
    "arr = [1, 5, 6, 7, 2, 1, 8, 1, -1, 10]\n",
    "\n",
    "arr2 = list(set(arr))\n",
    "arr2.sort(reverse=True)\n",
    "\n",
    "print(arr2[1])"
   ]
  },
  {
   "cell_type": "markdown",
   "metadata": {},
   "source": [
    "Task 21"
   ]
  },
  {
   "cell_type": "code",
   "execution_count": null,
   "metadata": {},
   "outputs": [],
   "source": [
    "arr = [1, 5, 6, 7, 2, 1, 8, 1, -1, 10]\n",
    "\n",
    "EvenArr = []\n",
    "\n",
    "for el in arr:\n",
    "    if el % 2 == 0:\n",
    "        EvenArr.append(el)\n",
    "\n",
    "print(EvenArr)"
   ]
  },
  {
   "cell_type": "markdown",
   "metadata": {},
   "source": [
    "Task 22"
   ]
  },
  {
   "cell_type": "code",
   "execution_count": null,
   "metadata": {},
   "outputs": [],
   "source": [
    "arr = [1, 5, 6, 7, 2, 1, 8, 1, -1, 10]\n",
    "\n",
    "OddArr = []\n",
    "\n",
    "for el in arr:\n",
    "    if el % 2 != 0:\n",
    "        EvenArr.append(el)\n",
    "\n",
    "print(OddArr)"
   ]
  },
  {
   "cell_type": "markdown",
   "metadata": {},
   "source": [
    "Task 23"
   ]
  },
  {
   "cell_type": "code",
   "execution_count": null,
   "metadata": {},
   "outputs": [],
   "source": [
    "arr = [1, 5, 6, 7, 2, 1, 8, 1, -1, 10]\n",
    "\n",
    "arr2 = list(set(arr))\n",
    "arr2.sort()\n",
    "\n",
    "print(arr2[1])"
   ]
  },
  {
   "cell_type": "markdown",
   "metadata": {},
   "source": [
    "Task 24"
   ]
  },
  {
   "cell_type": "code",
   "execution_count": null,
   "metadata": {},
   "outputs": [],
   "source": [
    "arr = [1, 5, 6, 7, 2, 1, 8, 1, -1, 10]\n",
    "\n",
    "print(len(arr))"
   ]
  },
  {
   "cell_type": "markdown",
   "metadata": {},
   "source": [
    "Task 25"
   ]
  },
  {
   "cell_type": "code",
   "execution_count": null,
   "metadata": {},
   "outputs": [],
   "source": [
    "arr = [1, 5, 6, 7, 2, 1, 8, 1, -1, 10]\n",
    "\n",
    "copiedArr = arr.copy()\n",
    "print(copiedArr)"
   ]
  },
  {
   "cell_type": "markdown",
   "metadata": {},
   "source": [
    "Task 26"
   ]
  },
  {
   "cell_type": "code",
   "execution_count": null,
   "metadata": {},
   "outputs": [],
   "source": [
    "arr = [1, 5, 6, 7, 2, 1, 8, 1, -1, 5]\n",
    "\n",
    "i = int(len(arr) / 2)\n",
    "\n",
    "if len(arr) % 2 == 0:\n",
    "    print(arr[i - 1], arr[i])\n",
    "else:\n",
    "    print(arr[i])"
   ]
  },
  {
   "cell_type": "markdown",
   "metadata": {},
   "source": [
    "Task 27"
   ]
  },
  {
   "cell_type": "code",
   "execution_count": null,
   "metadata": {},
   "outputs": [],
   "source": [
    "arr = [1, 5, 6, 7, 2, 1, 8, 1, -1, 5]\n",
    "sublist = arr[2:6]\n",
    "\n",
    "print(max(sublist))"
   ]
  },
  {
   "cell_type": "markdown",
   "metadata": {},
   "source": [
    "Task 28"
   ]
  },
  {
   "cell_type": "code",
   "execution_count": null,
   "metadata": {},
   "outputs": [],
   "source": [
    "arr = [1, 5, 6, 7, 2, 1, 8, 1, -1, 5]\n",
    "sublist = arr[2:6]\n",
    "\n",
    "print(min(sublist))"
   ]
  },
  {
   "cell_type": "markdown",
   "metadata": {},
   "source": [
    "Task 29"
   ]
  },
  {
   "cell_type": "code",
   "execution_count": null,
   "metadata": {},
   "outputs": [],
   "source": [
    "arr = [1, 5, 6, 7, 2, 1, 8, 1, -1, 5]\n",
    "arr.pop(len(arr) - 1)\n",
    "\n",
    "print(arr)"
   ]
  },
  {
   "cell_type": "markdown",
   "metadata": {},
   "source": [
    "Task 30"
   ]
  },
  {
   "cell_type": "code",
   "execution_count": null,
   "metadata": {},
   "outputs": [],
   "source": [
    "arr = [1, 5, 6, 7, 2, 1, 8, 1, -1, 5]\n",
    "\n",
    "print(arr == sorted(arr))"
   ]
  },
  {
   "cell_type": "markdown",
   "metadata": {},
   "source": [
    "Task 31"
   ]
  },
  {
   "cell_type": "code",
   "execution_count": null,
   "metadata": {},
   "outputs": [],
   "source": [
    "arr = [1, 5, 6, 7, 2, 1, 8, 1, -1, 5]\n",
    "newarr = []\n",
    "a = 3\n",
    "\n",
    "for el in arr:\n",
    "    for i in range(3):\n",
    "        newarr.append(el)\n",
    "    \n",
    "print(newarr)"
   ]
  },
  {
   "cell_type": "markdown",
   "metadata": {},
   "source": [
    "Task 32"
   ]
  },
  {
   "cell_type": "code",
   "execution_count": null,
   "metadata": {},
   "outputs": [],
   "source": [
    "arr1 = [1, 5, 6, 7, 2, 1, 8, 1, -1, 5, 10]\n",
    "arr2 = [8, 9, 10, 5, 3, 0]\n",
    "\n",
    "result = list(set(arr1) | set(arr2))\n",
    "print(result)"
   ]
  },
  {
   "cell_type": "markdown",
   "metadata": {},
   "source": [
    "Task 33\n"
   ]
  },
  {
   "cell_type": "code",
   "execution_count": null,
   "metadata": {},
   "outputs": [],
   "source": [
    "arr = [1, 5, 6, 7, 2, 1, 8, 1, -1, 5]\n",
    "a = 1\n",
    "new = []\n",
    "n = 0\n",
    "\n",
    "while n < len(arr):\n",
    "    try:\n",
    "        index = arr.index(a, n)\n",
    "        new.append(index)\n",
    "        n = index + 1\n",
    "    except ValueError:\n",
    "        break\n",
    "\n",
    "print(new)\n"
   ]
  },
  {
   "cell_type": "markdown",
   "metadata": {},
   "source": [
    "Task 34\n"
   ]
  },
  {
   "cell_type": "code",
   "execution_count": null,
   "metadata": {},
   "outputs": [],
   "source": [
    "arr = [1, 5, 6, 7, 2, 1, 8, 1, -1, 5]\n",
    "arr.reverse()\n",
    "\n",
    "print(arr)"
   ]
  },
  {
   "cell_type": "markdown",
   "metadata": {},
   "source": [
    "Task 35"
   ]
  },
  {
   "cell_type": "code",
   "execution_count": null,
   "metadata": {},
   "outputs": [],
   "source": [
    "print(list(range(1, 11)))"
   ]
  },
  {
   "cell_type": "markdown",
   "metadata": {},
   "source": [
    "Task 36"
   ]
  },
  {
   "cell_type": "code",
   "execution_count": null,
   "metadata": {},
   "outputs": [],
   "source": [
    "arr = [-5, 3, 0, -2, 7, 8, -1, 4]\n",
    "posArr = []\n",
    "\n",
    "for el in arr:\n",
    "    if el > 0:\n",
    "        posArr.append(el)\n",
    "\n",
    "print(posArr)\n"
   ]
  },
  {
   "cell_type": "markdown",
   "metadata": {},
   "source": [
    "Task 37"
   ]
  },
  {
   "cell_type": "code",
   "execution_count": null,
   "metadata": {},
   "outputs": [],
   "source": [
    "arr = [-5, 3, 0, -2, 7, 8, -1, 4]\n",
    "posArr = []\n",
    "\n",
    "for el in arr:\n",
    "    if el < 0:\n",
    "        posArr.append(el)\n",
    "\n",
    "print(posArr)"
   ]
  },
  {
   "cell_type": "markdown",
   "metadata": {},
   "source": [
    "Task 38"
   ]
  },
  {
   "cell_type": "code",
   "execution_count": null,
   "metadata": {},
   "outputs": [],
   "source": [
    "my_list = [1, 2, 3, 2, 1]\n",
    "\n",
    "is_palindrome = my_list == my_list[::-1]\n",
    "\n",
    "if is_palindrome:\n",
    "    print(\"The list is a palindrome.\")\n",
    "else:\n",
    "    print(\"The list is not a palindrome.\")\n"
   ]
  },
  {
   "cell_type": "markdown",
   "metadata": {},
   "source": [
    "Task 39"
   ]
  },
  {
   "cell_type": "code",
   "execution_count": null,
   "metadata": {},
   "outputs": [],
   "source": [
    "arr = [-5, 3, 0, -2, 7, 8, -1, 4]\n",
    "size = 3\n",
    "\n",
    "sublists = [arr[i:i + size] for i in range(0, len(arr), size)]\n",
    "\n",
    "print(sublists)\n"
   ]
  },
  {
   "cell_type": "markdown",
   "metadata": {},
   "source": [
    "Task 40"
   ]
  },
  {
   "cell_type": "code",
   "execution_count": null,
   "metadata": {},
   "outputs": [],
   "source": [
    "arr = [1, 5, 6, 7, 2, 1, 8, 1, -1]\n",
    "newArr = list(set(arr))\n",
    "\n",
    "print(newArr)\n",
    "\n",
    "# OR\n",
    "\n",
    "newOne = []\n",
    "\n",
    "for el in arr:\n",
    "    if el not in newOne:\n",
    "        newOne.append(el)\n",
    "\n",
    "print(newOne)"
   ]
  },
  {
   "cell_type": "markdown",
   "metadata": {},
   "source": [
    "<h1>Tuple Tasks</h1>\n"
   ]
  },
  {
   "cell_type": "markdown",
   "metadata": {},
   "source": [
    "Task 1"
   ]
  },
  {
   "cell_type": "code",
   "execution_count": null,
   "metadata": {},
   "outputs": [],
   "source": [
    "tapl = (1, \"5\", 4, \"3\", 8, 10)\n",
    "a = 4\n",
    "\n",
    "print(tapl.count(a))"
   ]
  },
  {
   "cell_type": "markdown",
   "metadata": {},
   "source": [
    "Task 2"
   ]
  },
  {
   "cell_type": "code",
   "execution_count": null,
   "metadata": {},
   "outputs": [],
   "source": [
    "tapl = (1, 5, 4, 3, 8, 10)\n",
    "\n",
    "print(max(list(tapl)))"
   ]
  },
  {
   "cell_type": "markdown",
   "metadata": {},
   "source": [
    "Task 3"
   ]
  },
  {
   "cell_type": "code",
   "execution_count": null,
   "metadata": {},
   "outputs": [],
   "source": [
    "tapl = (1, 5, 4, 3, 8, 10)\n",
    "\n",
    "print(min(list(tapl)))"
   ]
  },
  {
   "cell_type": "markdown",
   "metadata": {},
   "source": [
    "Task 4"
   ]
  },
  {
   "cell_type": "code",
   "execution_count": null,
   "metadata": {},
   "outputs": [],
   "source": [
    "tapl = (1, \"5\", 4, \"3\", 8, 10)\n",
    "a = 4\n",
    "\n",
    "print(a in tapl)"
   ]
  },
  {
   "cell_type": "markdown",
   "metadata": {},
   "source": [
    "Task 5"
   ]
  },
  {
   "cell_type": "code",
   "execution_count": null,
   "metadata": {},
   "outputs": [],
   "source": [
    "tapl = (1, \"5\", 4, \"3\", 8, 10)\n",
    "\n",
    "print(tapl[0])"
   ]
  },
  {
   "cell_type": "markdown",
   "metadata": {},
   "source": [
    "Task 6"
   ]
  },
  {
   "cell_type": "code",
   "execution_count": null,
   "metadata": {},
   "outputs": [],
   "source": [
    "tapl = (1, \"5\", 4, \"3\", 8, 10)\n",
    "\n",
    "print(tapl[len(tapl) - 1])"
   ]
  },
  {
   "cell_type": "markdown",
   "metadata": {},
   "source": [
    "Task 7"
   ]
  },
  {
   "cell_type": "code",
   "execution_count": null,
   "metadata": {},
   "outputs": [],
   "source": [
    "tapl = (1, \"5\", 4, \"3\", 8, 10)\n",
    "\n",
    "print(len(tapl))"
   ]
  },
  {
   "cell_type": "markdown",
   "metadata": {},
   "source": [
    "Task 8"
   ]
  },
  {
   "cell_type": "code",
   "execution_count": null,
   "metadata": {},
   "outputs": [],
   "source": [
    "tapl = (1, \"5\", 4, \"3\", 8, 10)\n",
    "new = tapl[:3]\n",
    "\n",
    "print((new))"
   ]
  },
  {
   "cell_type": "markdown",
   "metadata": {},
   "source": [
    "Task 9\n"
   ]
  },
  {
   "cell_type": "code",
   "execution_count": null,
   "metadata": {},
   "outputs": [],
   "source": [
    "tapl1 = (1, \"5\", 4, \"3\", 8, 10)\n",
    "tapl2 = (1, \"5\", 4, \"3\", 8, 10)\n",
    "\n",
    "print(tapl1 + tapl2)"
   ]
  },
  {
   "cell_type": "markdown",
   "metadata": {},
   "source": [
    "Task 10"
   ]
  },
  {
   "cell_type": "code",
   "execution_count": null,
   "metadata": {},
   "outputs": [],
   "source": [
    "tapl = (1, \"5\", 4, \"3\", 8, 10) \n",
    "\n",
    "if len(tapl) > 0:\n",
    "    print(\"The tuple has elements.\")\n",
    "else:\n",
    "    print(\"The tuple is empty.\")\n"
   ]
  },
  {
   "cell_type": "markdown",
   "metadata": {},
   "source": [
    "Task 11"
   ]
  },
  {
   "cell_type": "code",
   "execution_count": null,
   "metadata": {},
   "outputs": [],
   "source": [
    "tapl = (1, \"5\", 4, \"3\", 8, 10, \"5\", 4)\n",
    "\n",
    "element_to_find = \"5\"\n",
    "\n",
    "indices = [index for index, value in enumerate(tapl) if value == element_to_find]\n",
    "\n",
    "if indices:\n",
    "    print(indices)\n",
    "else:\n",
    "    print(0)\n"
   ]
  },
  {
   "cell_type": "markdown",
   "metadata": {},
   "source": [
    "Task 12"
   ]
  },
  {
   "cell_type": "code",
   "execution_count": null,
   "metadata": {},
   "outputs": [],
   "source": [
    "tapl = (1, 5, 4, 3, 8, 10, 5, 8)\n",
    "\n",
    "uniqueTapl = sorted(set(tapl), reverse=True)\n",
    "\n",
    "if len(uniqueTapl) >= 2:\n",
    "    second_largest = uniqueTapl[1]\n",
    "    print(second_largest)\n",
    "else:\n",
    "    tapl\n"
   ]
  },
  {
   "cell_type": "markdown",
   "metadata": {},
   "source": [
    "Task 13"
   ]
  },
  {
   "cell_type": "code",
   "execution_count": null,
   "metadata": {},
   "outputs": [],
   "source": [
    "tapl = (1, 5, 4, 3, 8, 10, 5, 8)\n",
    "\n",
    "uniqueTapl = sorted(set(tapl), reverse=False)\n",
    "\n",
    "if len(uniqueTapl) >= 2:\n",
    "    second_largest = uniqueTapl[1]\n",
    "    print(second_largest)\n",
    "else:\n",
    "    tapl"
   ]
  },
  {
   "cell_type": "markdown",
   "metadata": {},
   "source": [
    "Task 14"
   ]
  },
  {
   "cell_type": "code",
   "execution_count": null,
   "metadata": {},
   "outputs": [],
   "source": [
    "tapl = (5,)"
   ]
  },
  {
   "cell_type": "markdown",
   "metadata": {},
   "source": [
    "Task 15"
   ]
  },
  {
   "cell_type": "code",
   "execution_count": null,
   "metadata": {},
   "outputs": [],
   "source": [
    "print(list(tapl))"
   ]
  },
  {
   "cell_type": "markdown",
   "metadata": {},
   "source": [
    "Task 16"
   ]
  },
  {
   "cell_type": "code",
   "execution_count": null,
   "metadata": {},
   "outputs": [],
   "source": [
    "tapl = (1, 2, 4, 5, 8, 10)\n",
    "\n",
    "print(tapl == tuple(sorted(tapl)))\n"
   ]
  },
  {
   "cell_type": "markdown",
   "metadata": {},
   "source": [
    "Task 17"
   ]
  },
  {
   "cell_type": "code",
   "execution_count": null,
   "metadata": {},
   "outputs": [],
   "source": [
    "subtuple = tapl[2:5]\n",
    "\n",
    "if subtuple: \n",
    "    max_element = max(subtuple)\n",
    "    print(max_element)\n"
   ]
  },
  {
   "cell_type": "markdown",
   "metadata": {},
   "source": [
    "Task 18"
   ]
  },
  {
   "cell_type": "code",
   "execution_count": null,
   "metadata": {},
   "outputs": [],
   "source": [
    "subtuple = tapl[2:5]\n",
    "\n",
    "if subtuple: \n",
    "    min_element = min(subtuple)\n",
    "    print(min_element)\n"
   ]
  },
  {
   "cell_type": "markdown",
   "metadata": {},
   "source": [
    "Task 19"
   ]
  },
  {
   "cell_type": "code",
   "execution_count": null,
   "metadata": {},
   "outputs": [],
   "source": [
    "new = list(tapl)\n",
    "\n",
    "if 5 in new:\n",
    "    new.remove(5)\n",
    "\n",
    "new_tapl = tuple(new)\n",
    "\n",
    "print(new_tapl)\n"
   ]
  },
  {
   "cell_type": "markdown",
   "metadata": {},
   "source": [
    "Task 20"
   ]
  },
  {
   "cell_type": "code",
   "execution_count": null,
   "metadata": {},
   "outputs": [],
   "source": [
    "tapl = (1, 5, 4, 3, 8, 10, 7, 2, 6)\n",
    "\n",
    "ranges = [(0, 3), (3, 6), (6, 9)]\n",
    "\n",
    "subtuples = tuple(tapl[start:end] for start, end in ranges)\n",
    "\n",
    "print(subtuples)\n"
   ]
  },
  {
   "cell_type": "markdown",
   "metadata": {},
   "source": [
    "Task 21"
   ]
  },
  {
   "cell_type": "code",
   "execution_count": null,
   "metadata": {},
   "outputs": [],
   "source": [
    "a = 3\n",
    "newarr = []\n",
    "\n",
    "for el in tapl:\n",
    "    for i in range(3):\n",
    "        newarr.append(el)\n",
    "    \n",
    "print(tuple(newarr))\n"
   ]
  },
  {
   "cell_type": "markdown",
   "metadata": {},
   "source": [
    "Task 22"
   ]
  },
  {
   "cell_type": "code",
   "execution_count": null,
   "metadata": {},
   "outputs": [],
   "source": [
    "smth = tuple(range(1, 11))\n",
    "print(smth)"
   ]
  },
  {
   "cell_type": "markdown",
   "metadata": {},
   "source": [
    "Task 23"
   ]
  },
  {
   "cell_type": "code",
   "execution_count": null,
   "metadata": {},
   "outputs": [],
   "source": [
    "reversed_tapl = tapl[::-1]\n",
    "\n",
    "print(reversed_tapl)"
   ]
  },
  {
   "cell_type": "markdown",
   "metadata": {},
   "source": [
    "Task 24"
   ]
  },
  {
   "cell_type": "code",
   "execution_count": null,
   "metadata": {},
   "outputs": [],
   "source": [
    "reversed_tapl = tapl[::-1]\n",
    "\n",
    "print( reversed_tapl == tapl)"
   ]
  },
  {
   "cell_type": "markdown",
   "metadata": {},
   "source": [
    "Task 25"
   ]
  },
  {
   "cell_type": "code",
   "execution_count": null,
   "metadata": {},
   "outputs": [],
   "source": [
    "newOne = []\n",
    "\n",
    "for el in tapl:\n",
    "    if el not in newOne:\n",
    "        newOne.append(el)\n",
    "\n",
    "print(tuple(newOne))"
   ]
  },
  {
   "cell_type": "markdown",
   "metadata": {},
   "source": [
    "<h1>Set tasks</h1>"
   ]
  },
  {
   "cell_type": "markdown",
   "metadata": {},
   "source": [
    "Task 1"
   ]
  },
  {
   "cell_type": "code",
   "execution_count": null,
   "metadata": {},
   "outputs": [],
   "source": [
    "set1 = {1, 2, 3, 4, 5}\n",
    "set2 = {4, 5, 6, 7, 8}\n",
    "\n",
    "print(set1 | set2)"
   ]
  },
  {
   "cell_type": "markdown",
   "metadata": {},
   "source": [
    "Task 2"
   ]
  },
  {
   "cell_type": "code",
   "execution_count": null,
   "metadata": {},
   "outputs": [],
   "source": [
    "set1 = {1, 2, 3, 4, 5}\n",
    "set2 = {4, 5, 6, 7, 8}\n",
    "\n",
    "print(set1 & set2)"
   ]
  },
  {
   "cell_type": "markdown",
   "metadata": {},
   "source": [
    "Task 3"
   ]
  },
  {
   "cell_type": "code",
   "execution_count": null,
   "metadata": {},
   "outputs": [],
   "source": [
    "set1 = {1, 2, 3, 4, 5}\n",
    "set2 = {4, 5, 6, 7, 8}\n",
    "\n",
    "print(set1 - set2)"
   ]
  },
  {
   "cell_type": "markdown",
   "metadata": {},
   "source": [
    "Task 4"
   ]
  },
  {
   "cell_type": "code",
   "execution_count": null,
   "metadata": {},
   "outputs": [],
   "source": [
    "set1 = {1, 2, 3, 4, 5}\n",
    "set2 = {4, 5, 6, 7, 8}\n",
    "\n",
    "print(set1 <= set2)"
   ]
  },
  {
   "cell_type": "markdown",
   "metadata": {},
   "source": [
    "Task 5"
   ]
  },
  {
   "cell_type": "code",
   "execution_count": null,
   "metadata": {},
   "outputs": [],
   "source": [
    "set1 = {1, 2, 3, 4, 5}\n",
    "a = 3\n",
    "\n",
    "print(a in set1)"
   ]
  },
  {
   "cell_type": "markdown",
   "metadata": {},
   "source": [
    "Task 6"
   ]
  },
  {
   "cell_type": "code",
   "execution_count": 197,
   "metadata": {},
   "outputs": [
    {
     "name": "stdout",
     "output_type": "stream",
     "text": [
      "5\n"
     ]
    }
   ],
   "source": [
    "set1 = {1, 2, 3, 4, 5}\n",
    "\n",
    "print(len(set1))"
   ]
  }
 ],
 "metadata": {
  "kernelspec": {
   "display_name": "Python 3",
   "language": "python",
   "name": "python3"
  },
  "language_info": {
   "codemirror_mode": {
    "name": "ipython",
    "version": 3
   },
   "file_extension": ".py",
   "mimetype": "text/x-python",
   "name": "python",
   "nbconvert_exporter": "python",
   "pygments_lexer": "ipython3",
   "version": "3.13.0"
  }
 },
 "nbformat": 4,
 "nbformat_minor": 2
}
